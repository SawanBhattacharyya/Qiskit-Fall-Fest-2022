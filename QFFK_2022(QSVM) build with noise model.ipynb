{
 "cells": [
  {
   "cell_type": "code",
   "execution_count": 6,
   "id": "78fe44f0-9932-400a-80e7-8222beca741a",
   "metadata": {},
   "outputs": [],
   "source": [
    "import matplotlib.pyplot as plt\n",
    "import numpy as np\n",
    "\n",
    "from sklearn.svm import SVC\n",
    "from sklearn.cluster import SpectralClustering\n",
    "from sklearn.metrics import normalized_mutual_info_score\n",
    "\n",
    "from qiskit import Aer\n",
    "from qiskit.circuit.library import ZZFeatureMap\n",
    "from qiskit.utils import QuantumInstance, algorithm_globals\n",
    "from qiskit_machine_learning.algorithms import QSVC\n",
    "from qiskit_machine_learning.kernels import QuantumKernel\n",
    "#import the noise packages\n",
    "from qiskit.providers.aer.noise import NoiseModel\n",
    "from qiskit.providers.aer.noise import QuantumError, ReadoutError\n",
    "from qiskit.providers.aer.noise import pauli_error\n",
    "from qiskit.providers.aer.noise import depolarizing_error,amplitude_damping_error,phase_damping_error,phase_amplitude_damping_error\n",
    "from qiskit.providers.aer.noise import thermal_relaxation_error\n",
    "seed = 12345\n",
    "algorithm_globals.random_seed = seed"
   ]
  },
  {
   "cell_type": "code",
   "execution_count": 7,
   "id": "557e3c49-65af-4c44-9f87-62e42dde448e",
   "metadata": {},
   "outputs": [],
   "source": [
    "def get_noise(p_bit,p_phase,p_gate1,p_gate2):\n",
    "    bit_flip = pauli_error([('X',p_bit), ('I', 1 - p_bit)])#bit flip\n",
    "    phase_flip = pauli_error([('Z', p_phase), ('I', 1 - p_phase)])#phase flip\n",
    "    #bitphase_flip = phase_flip.compose(phase_flip)\n",
    "    #error_gate1 = depolarizing_error(p_gate, 1)\n",
    "    #error_gate2=amplitude_damping_error(p_gate, excited_state_population=0, canonical_kraus=True)\n",
    "    #error_gate3=phase_damping_error(p_gate, canonical_kraus=True)\n",
    "    error_gate4=phase_amplitude_damping_error(p_gate1, p_gate2, excited_state_population=0, canonical_kraus=True)\n",
    "    \n",
    "    noise_model = NoiseModel()\n",
    "    noise_model.add_all_qubit_quantum_error(phase_flip, \"measure\") # measurement error is applied to measurements\n",
    "    #noise_model.add_all_qubit_quantum_error(error_gate4, [\"x\",\"h\"]) # single qubit gate error is applied to x gates\n",
    "        \n",
    "    return noise_model\n"
   ]
  },
  {
   "cell_type": "code",
   "execution_count": 8,
   "id": "f06e539f-a1a6-41eb-9eb3-089c61b2ccb4",
   "metadata": {},
   "outputs": [],
   "source": [
    "#Give the proper parameter\n",
    "noise_model = get_noise(0.05,0.05,0.05,0.05)  "
   ]
  },
  {
   "cell_type": "code",
   "execution_count": 9,
   "id": "5e84596c-1bfa-4bbe-a0de-340857ad19fb",
   "metadata": {},
   "outputs": [],
   "source": [
    "from sklearn import datasets\n",
    "\n",
    "iris = datasets.load_iris()\n",
    "x = iris.data\n",
    "y = iris.target\n",
    "\n",
    "train_features = np.concatenate((x[:40], x[50:90]))\n",
    "test_features = np.concatenate((x[40:50], x[90:100]))\n",
    "train_labels = np.concatenate((np.zeros(40), np.ones(40)))\n",
    "test_labels = np.concatenate((np.zeros(10), np.ones(10)))"
   ]
  },
  {
   "cell_type": "code",
   "execution_count": 10,
   "id": "90b4bca1-8e1a-4087-9136-594bd43291e7",
   "metadata": {},
   "outputs": [],
   "source": [
    "iris_dimension = 4\n",
    "\n",
    "feature_map = ZZFeatureMap(feature_dimension=iris_dimension, reps=2, entanglement=\"linear\")\n",
    "\n",
    "backend = QuantumInstance(\n",
    "    Aer.get_backend(\"aer_simulator\"), shots=1024, seed_simulator=seed, seed_transpiler=seed, noise_model=noise_model)\n",
    "\n",
    "kernel = QuantumKernel(feature_map=feature_map, quantum_instance=backend)"
   ]
  },
  {
   "cell_type": "code",
   "execution_count": 11,
   "id": "4f134c3c-d959-488c-9a40-08d4dbfdd7f8",
   "metadata": {},
   "outputs": [
    {
     "name": "stdout",
     "output_type": "stream",
     "text": [
      "QSVC classification test score: 0.95\n"
     ]
    }
   ],
   "source": [
    "qsvc = QSVC(quantum_kernel=kernel)\n",
    "qsvc.fit(train_features, train_labels)\n",
    "qsvc_score = qsvc.score(test_features, test_labels)\n",
    "\n",
    "print(f\"QSVC classification test score: {qsvc_score}\")"
   ]
  },
  {
   "cell_type": "code",
   "execution_count": 48,
   "id": "0cf1ecbc-6b45-43be-9e91-75d45bb698a1",
   "metadata": {},
   "outputs": [],
   "source": [
    "# evaluate data points\n",
    "y_predict = qsvc.predict(test_features)"
   ]
  },
  {
   "cell_type": "code",
   "execution_count": 57,
   "id": "fef82d71-7cff-4305-a14c-1832600b1086",
   "metadata": {},
   "outputs": [
    {
     "data": {
      "image/png": "[encoded data removed]",
      "text/plain": [
       "<Figure size 432x288 with 1 Axes>"
      ]
     },
     "metadata": {
      "needs_background": "light"
     },
     "output_type": "display_data"
    }
   ],
   "source": [
    "# plot results\n",
    "# red == wrongly classified\n",
    "for x, y_target, y_p in zip(test_features, test_labels, y_predict):\n",
    "    if y_target == 1:\n",
    "        plt.plot(x[0], x[1], \"bo\")\n",
    "    else:\n",
    "        plt.plot(x[0], x[1], \"go\")\n",
    "    if not np.all(y_target == y_p):\n",
    "        plt.scatter(x[0], x[1], s=200, facecolors=\"none\", edgecolors=\"r\", linewidths=2)\n",
    "plt.plot([4.5, 6.5], [2, 5], \"--\", color=\"black\")\n",
    "plt.show()"
   ]
  },
  {
   "cell_type": "code",
   "execution_count": 59,
   "id": "326bcd0e-b8a5-48e8-b688-dab5ed661e99",
   "metadata": {},
   "outputs": [
    {
     "data": {
      "image/png": "[encoded data removed]",
      "text/plain": [
       "<Figure size 432x288 with 1 Axes>"
      ]
     },
     "metadata": {
      "needs_background": "light"
     },
     "output_type": "display_data"
    }
   ],
   "source": [
    "# plot results\n",
    "# red == wrongly classified\n",
    "for x, y_target, y_p in zip(test_features, test_labels, y_predict):\n",
    "    if y_target == 1:\n",
    "        plt.plot(x[2], x[3], \"bo\")\n",
    "    else:\n",
    "        plt.plot(x[2], x[3], \"go\")\n",
    "    if not np.all(y_target == y_p):\n",
    "        plt.scatter(x[2], x[3], s=200, facecolors=\"none\", edgecolors=\"r\", linewidths=2)\n",
    "plt.plot([0, 4], [2, 0], \"--\", color=\"black\")\n",
    "plt.show()"
   ]
  },
  {
   "cell_type": "code",
   "execution_count": null,
   "id": "984a8032-f604-467a-acab-92de7b121810",
   "metadata": {},
   "outputs": [],
   "source": []
  }
 ],
 "metadata": {
  "kernelspec": {
   "display_name": "Python 3 (ipykernel)",
   "language": "python",
   "name": "python3"
  },
  "language_info": {
   "codemirror_mode": {
    "name": "ipython",
    "version": 3
   },
   "file_extension": ".py",
   "mimetype": "text/x-python",
   "name": "python",
   "nbconvert_exporter": "python",
   "pygments_lexer": "ipython3",
   "version": "3.8.13"
  },
  "widgets": {
   "application/vnd.jupyter.widget-state+json": {
    "state": {},
    "version_major": 2,
    "version_minor": 0
   }
  }
 },
 "nbformat": 4,
 "nbformat_minor": 5
}
